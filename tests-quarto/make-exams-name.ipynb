{
 "cells": [
  {
   "cell_type": "code",
   "execution_count": 6,
   "id": "bfc17475-fcf1-42e5-837f-3e9b328a5dae",
   "metadata": {},
   "outputs": [],
   "source": [
    "import csv"
   ]
  },
  {
   "cell_type": "code",
   "execution_count": 7,
   "id": "1cada4ff-a6de-4477-8d03-2982bdd6b391",
   "metadata": {},
   "outputs": [],
   "source": [
    "with open(\"eleves.csv\") as csvfile:\n",
    "    eleves = csv.DictReader(csvfile)\n",
    "    for l in eleves:\n",
    "        with open(\"2e-sess.tex\") as texfile:\n",
    "            texfile = texfile.read()\n",
    "            texfile = texfile.replace(\"testlastname{}\", f\"testlastname{{{l['nom']}}}\")\n",
    "            texfile = texfile.replace(\"testfirstname{}\", f\"testfirstname{{{l['prenom']}}}\")\n",
    "            texfile = texfile.replace(\"testsection{5TTi}\", f\"testsection{{5TT{l['classe']}}}\")\n",
    "            with open(f\"./compile/exam-{l['nom']}-{l['prenom']}.tex\", \"x\") as out:\n",
    "                out.write(texfile)"
   ]
  },
  {
   "cell_type": "code",
   "execution_count": null,
   "id": "28c18f9d-1e67-4fec-8267-011c5fc2ce28",
   "metadata": {},
   "outputs": [],
   "source": [
    "\n",
    "with open(\"examen-limites.tex\") as texfile:\n",
    "            texfile = texfile.read()\n",
    "            texfile = texfile.replace(\"testlastname{}\", f\"testlastname{{TTTTEEE}}\")\n",
    "            print(texfile)"
   ]
  },
  {
   "cell_type": "code",
   "execution_count": 34,
   "id": "2a362f19-3226-419d-9325-a4a1350fc5a2",
   "metadata": {},
   "outputs": [
    {
     "data": {
      "text/plain": [
       "8.0"
      ]
     },
     "execution_count": 34,
     "metadata": {},
     "output_type": "execute_result"
    }
   ],
   "source": [
    "224/28"
   ]
  },
  {
   "cell_type": "code",
   "execution_count": null,
   "id": "0b6a3a47-df30-4728-97ae-8ee1221abe52",
   "metadata": {},
   "outputs": [],
   "source": []
  }
 ],
 "metadata": {
  "kernelspec": {
   "display_name": "Python 3 (ipykernel)",
   "language": "python",
   "name": "python3"
  },
  "language_info": {
   "codemirror_mode": {
    "name": "ipython",
    "version": 3
   },
   "file_extension": ".py",
   "mimetype": "text/x-python",
   "name": "python",
   "nbconvert_exporter": "python",
   "pygments_lexer": "ipython3",
   "version": "3.11.9"
  }
 },
 "nbformat": 4,
 "nbformat_minor": 5
}
